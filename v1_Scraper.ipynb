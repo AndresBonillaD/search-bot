{
  "nbformat": 4,
  "nbformat_minor": 0,
  "metadata": {
    "colab": {
      "name": "v1_Scraper.ipynb",
      "provenance": [],
      "collapsed_sections": []
    },
    "kernelspec": {
      "display_name": "Python 3",
      "language": "python",
      "name": "python3"
    },
    "language_info": {
      "codemirror_mode": {
        "name": "ipython",
        "version": 3
      },
      "file_extension": ".py",
      "mimetype": "text/x-python",
      "name": "python",
      "nbconvert_exporter": "python",
      "pygments_lexer": "ipython3",
      "version": "3.8.5"
    }
  },
  "cells": [
    {
      "cell_type": "markdown",
      "metadata": {
        "id": "1I6RbB96ELX3"
      },
      "source": [
        "# Herramientas y Usos del Web Scraping para Búsqueda de Productos de Tecnología\n",
        "\n",
        "*Proyecto Final Redes de Comunicaciones.*\n",
        "\n",
        "*Facultad de Ingeniería, Universidad Nacional de Colombia, Bogotá, Colombia 2021*\n",
        "\n",
        "*Andres Alejandro Bonilla Duarte* - aabonillad@unal.edu.co\n",
        "\n",
        "\n",
        "---\n",
        "\n",
        "\n",
        "Desarrollo de un sistema agoritmico, que utiliza la tecnologia de Web Scraping de, la Autoescraper de Python3, para plnatear una heraminta digital de busqueda de productos tecnologicos, y evaluar las diferentes aproximaciones y diseños que se pueden utilizar con este objetivo.\n"
      ]
    },
    {
      "cell_type": "markdown",
      "metadata": {
        "id": "GoHNoAT1Bf1c"
      },
      "source": [
        "## Instalación y Preparación\n",
        "\n",
        "Se selecciona la erramienta AutoScraper tanto para explicar los conceptos basicor ralinodos tanto como implementar una aproximación \n",
        "*semiautomatica* utilizando el objeto AutoScraper. Podemos encontrar el proyecto de libre acceso y la decomentacion de la comunidad disponible en https://github.com/alirezamika/autoscraper"
      ]
    },
    {
      "cell_type": "markdown",
      "metadata": {
        "id": "8kcN9qpjBroR"
      },
      "source": [
        "![autoscraper.PNG](data:image/png;base64,iVBORw0KGgoAAAANSUhEUgAAAfAAAACoCAYAAAAfBrzIAAAAAXNSR0IArs4c6QAAAARnQU1BAACxjwv8YQUAAAAJcEhZcwAADsMAAA7DAcdvqGQAAFG6SURBVHhe7b2HWxTJ+r/9/gO/7zln9+wxRxAVxBwxYgIFJCg5R8lJQAQBBVGCChgQMeccEXPOkShmorrurnFVDGv4vFUNyAw0ElSc1meuva/Voau7Zxjnrqfqqaf+v//3nyYgCIIgCEJakMAJgiAIQoKQwAmCIAhCgpDACYIgCEKCkMAJgiAIQoKQwAmCIAhCgpDACYIgCEKCkMAJgiAIQoKQwAmCIAhCgpDACYIgCEKCkMAJgiAIQoKQwAmCIAhCgpDACYIgCEKCkMAJgiAIQoKQwAmCIAhCgpDACYIgCEKCkMAJgiAIQoKQwAmCIAhCgpDACYIgCEKCkMAJgiAIQoKQwAmCIAhCgpDACYIgCEKCkMAJgiAIQoKQwAmCIAhCgpDACYIgCEKCkMAJgiAIQoKQwAmCIAhCgpDACYIgCEKCkMAJgiAIQoKQwAmCIAhCgkhe4P/3S1P8r3kbtFfpiHYdVPDfpq1Ej5MK//5vc7RR6gDlzp3QtGUb/OvXpqLHEQRBED83khe4imoXmFnrIjLGGlMjTWFgPAxKnTqKHqvo8M5I/8F9MDnMHDFzbWDjpAX1Hur4tUlL0eMJgiCInxdJC5xHqyERbsi9Mw25xROQU2SIy9d9EBRqIclIvFV7JWzY7oPcIltkF+nh2l1XLFruie69e4oeTxAEQfy8SFrgrdurYPYCcyZvY1zJHyCQVTgai1aNR8++fUTbKDLa4wZh91FtZOQPLn89A3GtOATmtmOEzopYG4IgCOLnRNICV+vWAwuXm7HIe9wngV/J18DWfSbQM9QWbaPIOLlr4+C54TKvZQBu3veGf7AFWrbtINqGIAiC+DmRtMB79OmD1NVWTOB6ctJLP24NMysj0TaKTPgMW5zKGiP3Wm7d90FS8mR06d5btA1BEATxcyJpgXfvxQVuwwSuLye90xlucPe2F22jyKzaMBUZd8bLvZZbv/tj+ZoZ6NVXQ7QN8fPwn99aoFnLtmjdTglt27eHklJ7dOighE4dlaDaWQlqqu2grtoW6mrs/xz2d7XO7aDaqb1wDD+Wt2nH2rZu1x7NWrXFL+yc//eL+PUIglBsJC1wVfXuWLjMGrnFhnLSyysMQESUr2gbReU/vzXH7v0zcFVmPp9z+/dgzE4KQmf1HqLtiB+XiiWSbZU6oIu6GkaPHIRJXhaYP8sFK+faYWuyLQ6ucsKFrRNxLd0BhQfMcf+wMf46bibA/1y4zxTX0mzYMU44tMoB25KtsXKOFRbMdMBkHwtojx4MdXVVtGPXaMKuxa8pdi8EQSgekhZ4O+XOSFhkjaslJvLSexCImLn+kvoyatWuI9IOTa3WGcm4EQBLO1382kTa69uJusMTFpu3bs+krQ5XJzNsXhaOBxlJ+HgrEh+veuFjlhU+XjHEx8u6lVzSKePi2Orw52WPvTIOHzPN8DF3Ij7eCMGjrHhsXRYCD2dTdOmihhbs2pQ0SRCKj6QF3qR5W8QmWiHvrpWc9G7e92DPu0tKeoM1R+HAyUBkF+nIvJZBSFk9Bj37q4q2IX4s/vVrMzRv1Q4aAzUwe2YQii+n4MONsDLZXtarFDWX8oUx+HheGx/OaeHjmZH4eHwYPhweiPcH+uHdvr6feH9QAx+ODcWHUyOEYz+wNkLbqmK/Mh4frnrj98tzMC/WH4MHD0TL1u2EkSGxeyWIusA/0/x7uEmLtmjSqi2atm6LZm3aldGWw/7OaNq2DZq0aV1OK/yvdTmtymnZupIWbfBr01bCucWu+TMhaYHzKCF6tjNu3HOTkd4AJnRrJCQ7onX7TqLtFBEXNw+cuOyOzIIRn15HZsFwzF9miG69u4i2IX4ceN2CHj17Yl5cAP7MnIePeb5MqhMqxc2Fy4V9QhPv9w/APzu64e16Fbxe1gqlyU1QuvC/KF3wK0rn/1KdBexnyf/DqyUt8GatEt5uVcO79L74wKXPOwCyMueRfY4znufGYN3iUGhqDkHTlm1paJ2oE/w7mU/7NGUd0ZbtlaHaozv0zYzgHeaJgFnemJLoh/AUP0xb7ofpa9if17ojfL0bQtc5w3+FBXyWmsArdQLck43gkmiAiXPGwyXWGM4zzOA8zQIu4TZwC3WGodV4qPfuhZbtlIXr/awjRpIWOCeSfSiul0ySE3hOsSGWrnVEz779RdsoIqHhk3E6ywYZBUM+vY6swjGIijdCxy5qom0I6cOjCJ6Y5ulqg/wzc4Uo+OMVo8rImMn1w+mRLJruVybsJc2ZkH/By8T/+yJK5/0br1Ka4PXq9niX1kvoGAiRecV1+TB7tgOeXZ2DRfMioNJZjYbViRr55X8t0LxNe/QdNAj+Yf6YlRqJzecWY/m5WUg6HoRZB10RkW6L4N0mmLzLuMFM2W2GyH2OSDwWiA2X52H1/kWYHBmEQcM10YT9O+KJnmL396MieYG7ejrg5BUPJjwNGfFpY+teJ4zR0xJto2jw6GbDljnIzmcCzx/06XXkFhnCzXeUMB8q1o6QJlzav/yvJX5t2hpde/bFhlVz8CwrAu+vmOD9Jb1Kzo/FP3sHoHR5Wzyf9wueJ/7r25D0b7xc3AxvdvTA+zPa8vdw2RBvc3yRdWoVhmiOFIZD+ZckReQEh5d55kPj4y1NsOvsOqy9NJfJ2v2LRV1XuNBnH/HBhnMLMG/lHIzW1S2PyH+O4XXJC9zIxBhph/nQc2UBlIyCYdh5yAyGxqNE2ygaLdoo48CxmPJkvMqOSF6JI4ytBtFczw8Cl94vTIDdemvAzs0XwVFzceLcceSdnom8g/a4ut+KYVnGPgtkr9ZCRkIvXI7pwlD75lyZ3Q1ZS4fh6h6zyvvgHLBB7tEAHD+5A15TomFi4wrlzt1ZJ6QVifwnhf/em7HAIihiMnZdWY2Eo5MwdY+VqGQ5QTs4ExC0U/znXwoX+ayDblh5eg7iU2di8IgRQif5R/98Sl7gA4dqYu0WX+QWy2aia+D4FXO4ehuKtlE0DMdPwImLwcguki/icinPBzoGg0TbENKCf5GoqHZH/MJViFp3HObxu6EdsRnDg5diWEAShgYkyDMpAUO84zDEM6Zx8YrFUP+51e8nIBGaQckYHbYRhtHbMWnJIUTMXYauPfuTxH8y+O+7jXJHrNydikWnwwV5ikm1At/1RrCcMQbGU0bDYa4OJm0eL3rc1yAkzRxzjvph/clFmDwtGG2VO//Qn0/JC/xX1suKinXE9buucvK7WsJ6ZIlm+G/T1qLtFInJU/1wJttJGDmofA0DsW67A/oPkl5Nd6I6Sh3VEbV4G/Qit6Cj+xK0n7hY0ii5Lka/wNWI23QSmqN1RV8z8WPCp/RW71yG2EOeohKVJXDbBIydqIkufXqjc7deUO/bB5bRYxCwdYLo8V+LsD1WWHJqBuYsjUWPPgOYxMVfi9SRvMA5E8y1sOeoNTLyKwWYWTASOw+6QH+8YpdU5b3DPfuXIKfQgt135fA5ry43b7ET1HtQAZcfgeikpRg+ZQ06uKWKClGKKDF6+q3Ekp0naJrnJ4Enq2mP08PmzGQmytrnuX3WGGKQwSCo9SwTOP+/gf9I+G38dlF4BTwaX3AiBHPXzsSAIcNEX4/U+SEE3qtfP6SsMheytisEeCV/MPKKfBEzx1ehs2c1Bmvi2Lnpwvahlfc+ADfuTYSD6xghIUOsHSEdevYdBJ/5O6HuvVxUhFJG2TUVZrO2o1uvAaKvnfix+K1ZG3gF+CDldISoNKviv3k8RlgMgVqvcoH37iMMpftv+vYC5/BkutlH/DB3/QwMHjFS9DVJmR9C4DwrdmrUBOSV2MpJ8GqJKTbvCsBgzRGi7RSBwCk+OJfjJpeExyPx7NvToWMwXLQNIS3sXP2gF7Huhxg6rwofSh8QsApjTBzw/2gu/IeHT0k6uDkh9UykqDDFcEzUxTDjweg3egC0HTXhtdLgmyWzicElHn/YB3PWRWLwcGkkNteVH0LgHEs7PRw8wwU+8JMIMws0cTrDB15+E0XbfG94luTewwuQU8SHz2XveyQ2bJ+Mvhq0gcmPgI17EAYGLIfyDzR8Lou611KMNPcggUuYJkzMQ/oMhPkoHfTr2b/G3CG+bGyCuVn5ELq4MKsSuMMYfhuM4LPWSIjIG1PeFYSkmWH+8WDMXx+PPgN+nMTgH0bgQ4YPxZqtjsgu0v0kQs61uxOxeEUw2igpXlU2Y1MLnL4yGVmFWjL3rIGb933gN9kSrdqpiLYjpEG7Dmpw8QrAhv3noBW5A6q+a9HJe82Phc8a9ArciBnL0+DhHyJk2lNWurRo2bI9PEeMxU0TJ1wfbYpb5q64HhWPTbOT4DHRE8qd1D/9TvkQun9QEE7l7xHmmMVkWSPfQdyyhKZZYOGxcMSnxKBFa+Vq74MU+WEEzueKI2ZaMWG7yMhwgCD0w2eCYG1nJdrue8H/QazdkICM21ZyxVsyCobjbOZ0jBo7jL4IJcwY/QlYf+IGog79gUn7HsFk/T2MW1kEvR8Qw9XF8Ej7C6H7H2Dlmbsws3X56SpiSZnOnbsh2TcI9+28caf7aOT31EJ+Px3c0bZAcUQc7u0/jOtXMrFm7XqsWrEaf167geLzBzFjp62oKBWZaXvtEbtlMozMTUTfC6mhsALXHz8WC5ZaYc8JA2zbZ4nAUDN0VlcXPZbDlwkYW+hj7wku8MGVQmRyvF7ig9QV09Gybc0RbccuqoiItsbmdGNs2auP6DkW0NIZLXpsVXjVn8Aprtic5ohdR3WRuNgQRqban90IYvQYHZy6HMGi77Gf7pXDl7/FJ7mhU5duou04TVq0g5efI7buCcSaHeMwN0ULrt7jKGNdQRisORqLj+djYtoTWGx/AtNtT2C89TGMt/y48Ndozl6r3c4nmHX4PsYaWZDEJcJ//tscmoOH42TqCjwMnYXCwQa403WkIPOCfrooGm2GIn073Na1wi0dKxTr2eDOWDOsnWYkKklFJniXCWbt80DYggC0VZb+JlEKKfDe/TSwcacHLt/Sx+U7g3Dp9lBcvmmH6HgXqHbtKdqG01GtK+YutEdeifzuZHxJ1okL0+Do4izajm8kMd5iMLuGNS7dGsyux7hhhP3HZrLr9RJtUwGPkrv36oWcO1NY2yHC/Z6/PgSZN6dCrVvl0FPVNitWx+PKLWsWcVd2Nvg8eG5+BMaNH/FZ+Rua6GPXQU9k3BmHi7f49VgEf8MNk8MshTkqsTZE48CXU61KOwGvvWVSM97682HFJJ68NwvN23QUfY8IxeMX1tnq1q03Ijx8cTUhGfct3ZHffVSZyLux/zOZVzIKt3uMwgXdMYhbKj2J84pxSQdCETozVOi8iL0fUkEhBa6jr4v0Y7ZCMleF3HiWdtbNmbBxMKlRbjwSdpg4HqeuMLnJFEXJYBH5tWIPrNkYzaL46h2AtspKCJg6Wu56WYWjcTYrEBbWnx965/di62zCOg3Wn9pycooM4eplK3QOqrbR1TfE6SthyCrQrtLGACvW+6N775o7Db81a43YBFdk5zuyNpWJb3klFqzzYocOnWsepSC+PZqjxmLN5Yew3CEut5+F6ONPMXa8lZCoKfY+EYoH73y2aKUEPfYZzl22BiW6LNLmAq+Bmz1H4aj5WESt+XoS5xHy1D2WSDg2CcmnpmLOET9h2Lu2am/1wwQxB92RmjYX403MRd8LqaCQAu/SvRc2p1lXS+7KK3FA6qoA9O5f85rTnn37YtEKZ1yVK606ANmFY3AxNwyTQ/yF4XbZNh1UOyJqtp5cNMxlfiHHHx7e7nLHVoUXNpg63YNdz6zK9XQRHTu52jpuvhnEph2zkXnHUuhYyLbJ/2MarOz1BEnLtpFlvKkh0o96s/PL7hs+ANfvOSAy1gpNW7YTbUc0DoFTwjH75COY/aTRdwWTDjyF99Q4/Na8rej7RCgmfHSwT68BOJ+yHCV8qFxE3LLc6M0kbquPBattmWRNRWT5efgSLy7ohGMBWH0xHvtyN2DzoTVIXjkf8QviMCspGnNT49lzq7E3Z4NwDK95/qVC5wltyUenISE5SfR9kAoKKXAuxWVrgpCVb87kVFmdjC8Ly74VDQeXmufXeFtnDxOcy/Zhghz6qa0wPF1si137olmUpC3XRkW1E6LnTKgS8Wuyc0yEl2+ZwHnvtGmLtmij1BGt23cUxMw/7Px6EdEsImbRc+W1+JamxoiZHVpN4P6Bfrhw1V/uWhzeftf+aPQdyMv+iSevKXfsgpTlwcgtnFgl8W0oTlz2Yu+LSY1ticZhTlIyZp148tML3Hf/34hMWoEmLWgnPanAg4tRw7VwaH4Kil0CkN9rTJmou41CwQA9FGtbMKlb466hA+7beuPB5Om4NTMBVxYvxam9m7Encx1STocLguVbfvLtQ8P32mL6PnuB6AMThfKrfCvQ1JNRmLstAmHJkzA5zg/23nYYqj0C6r17Q0WtK9qrqKKtcidh9VC7DqrCc30GDoSrnxvW71uODRfnY+ZBV9YBqH+ngcMj/blH/bFg/Rz2GZVuJ1Nhk9jcvByYlDxYFD5KRnQaLNK1xaadERg6oubiLD369MGi5W7V5sIzC0YgNz8Ii5ZECzuAVRzfrkMHTA7XY9eqrOTGo+OM23bYf2gbUpbOwYnzCThyzheHzjji8NmJOHo+BCfPrcCC5Hk4eDyZnVu2EAtPRrNm0ZinXDTNN145eWEOsgoM2TGVw998D/DMW2GwsNGv8cPExewT4IYzmaxjIzcywYfPrbF4hQe69+4r2pb4dvDfi6p6TyyYNwc55w/hQdFVxJ3466cXuM++x8i9cR15V45h7YoUaI7UouF0BaZpi3Yw15+Ay3HzUGDqgoK+OoK883tpo8TYGQXJy7A0KAw+xhYY1aM/+iqroSejW0d1qKt2hzr7N6DWswe69OuOYXqa0LfVxXgXfRi5jIO+vS5GThgBDe2B6D6oFzr36gKV7mpQUmOSVmEBkbKKsLNZbbuH8SCqeWslqPXoBa9Ab6w+tFCI3Bsq8aj9Tpi1Lhg9+0q33obCClxVvTuLlmch764Nk5R8FJ5XGIrImT7C+kSxtvyDYOdkjJOX/YXotFJ2GizS1cfZjGnw9vNkH5ay45u1bAv7iUzuxePljs0q0MGN4pm4ctNOmJ/m8+K8E5BZOAJZRdrseDNk3PRmx0wTjq9sOwC3HwRj9NhRn+br+ZrubbvnIYvv+c2ELXtsXokNZsQ5QUVVrcYP8EgtbWxLD0Z2IR+qly36MpxJ3Q8uHub0BdnI8N+VSkdVnFsfjGfsC+HDISu8PeyAuN0nYLb1kajYfhZ8dtxAycHJeH/YGi/SjHFnpz+Mx43GbyI5IcT3p3/3vjgTGYdCXWtB2jzqLhxiiHtB03Fi8XKMHDwcyiwSbt5KSRj9rOl76l/s+V/Z77gJ+05t2qoM/mceyPzSpKVQ1vpzkq4LvH3Lth1gZGaCeZtjyiReh7rsVeFz7RHr3aEzXl/0OlJAYQXOf9FLls/D9aKoahEnzyq/lBMPZ1e7GisGdejcBdHxjrhaxHcpk4l2WWSdU2jNOgfTMHx02TIxLlm98Rq4cd/903Flxw4SpF0mXHlBlzFQ6FDwY+SfH4SiB6msg9FJ+LDxnmPiAvY6bgUJHQDZY/nfD50KxpDhGjXWbO/AOiopy8KRfUc+OY9z7a4dkpe6o1vP3qJtiW/Hf9kXUuI0D7zbPRbY1kfg7bbBiN26lwn8oajYasOkfDmW1Y4yzNnfTUSO+xbwUQOefMevy5e/8XsRO64u+GzNQck2U3zY1k94Xz7uHomr6THo3r3bF3+BE1+f/j364dyMeNyb4IgSJvE/3IPx15rN2L9yLQYOHFbjlOX3hI9WWjraIGFHhDBkLybpz8GlH7jaCuMsSeDfBAtrWxw+sRS5ha5yUWsGE+fVYivsPzoL4wzHiX4h8Iz0IcMHYdUmZyF6lpUel2DmbWcsWxOBjmrdheOHjhyAi7nVI+ky+pdTt+d5Atum7bPRtGXZ/Ld/YCAu581gET1f810lUv89EJ5+pmjRRnyukEfVwVM9cT6HD53LrxnPKtTGiUuTYedkyo6jNbeNTYtW7fDwylomqN7A1p4Cb7cOZAJPr7fAuTSnHPkbizNKsf3Ga+y99RrpjK3XXmHehRfw3vdMkKpY2y+BL3Vz3vMUs04/x4a8V0hj19x3+zV23XyNVdmliDz5HHa76t+JEAS+1Rgftla8N73w/ko8Jvm4oRmL4sTeT+L7wUupDu7ZH06jdeE6Wg96/YZgSL9B6Najb42BhSLA58iDZvlh0akwUUnXhv9qU+hajRU9txRQaIHzcndj9HSw++Bk5BZNkJMXF3pOwUSs2RTORC2+6QcftnGYaIgzWb5CpCzbnkfNF/N8ERnjK/TkuvfujQ3bpguFVMQlLoaY1DWEbHKDCePKInsDQ5y9ksCkPl7oeMgem1s8AdvSItGrX18hShd7DfZOVjh0OoDJX5+1kW0/ELeY/OfO94eKKi0da2z476t7Tyangl2f5N0QgVvvfCpIcv+dN7j9+B0eln7A87cf8bKcv998xB8v3+P6w38EmQczyVvteCp6rvrAo23Pvc+w5EopMh/8g3t/v8czdq0X5dfl/3/y+gOKn73D+XtvkXThJZzS6n7d6gJnZMRgxeJ5aN9B+gU0fkS4qPlcePOWfD5aGgEBD95cfd2x9Fhc/Uu7MvxWm2CMtXQ3OFFogXP4ELmXny2OX3KrNlTNM7kzb/kgcaE/etSQwKXWvTsSk71w456XID1ZAWYW6ODk5UnwC3KBkooai3R9cO9RKntePiGtPvD136cuLEfr9ioYNmIUjpxOEvb6rrpkLJtF0xl58Uz0Y2tcNmZsbojdhwKQcYfLvzLrnHcSeOLavqPR0B9voNA95B8R/qXRqm0HLJ4/Bx+zFzdY4K7pz7Au9xVuPX6Pl/98xPuPAPuv2oM/x3/2lAk1i8l2PpOp4+6nDR5a59H+9BPPcaLoLf58+QHvPnzER7ELswd//i27+L3n73Hgzmv4H/y7TkPrYgL/eCoQ96+fwSitMTRiRHw1rB0dsOxAgpCUJibpz+G3xhg69iTwb0p7lc6Yt2gSrtx0ZJG3rAg1mNS1WCTtieh4N6h1q15KlH9RjB47Elt2BwvSk4+uBzIx6uHYhQDMig/HjFlh+P3x8vJ5ZtnoWizSrkD+uJwiPezenwxXd08cObUYV4v4PcsnrfHEuryCSHj72zERVC+qz6M7a3tLpB0KxpXbxlVeM19ypofzWZHw9HWQy6YnGofWTN5rk2fhwVZX/LNZs0ECd9nzFLtvvhYE+v5DuS0rHtyaH9iTTKxVH1ymRU/fY0lGKRzrERFXYMmi9ygW8fOo+xXrNFS7gnBtLnT5n/Bb4SMDF+6/RdCRv0XPLYuYwN9vGoA36Y44sCISfViHmzqexNfA1NIaK/ctQPxhL1FJfw6/dROg4yzdbZslIXCeLT5g8ECs3RyArHxeAEU+GuUSP5/rgbhEL/Ts269aeyHZwXYCjp6NQE4xX8JVKcOySNwA2TdjkXtjC27+7iucs0zMssi2kUX+OC7b3DtzkZW3Gdfuupd3BuTbXCv2R1ikEzp0Vqs2dN6yTQf4BXjg8KnpyLxjVk3+POntXLYfAkPshY6NbFvi29O0eRtEBjjj8RYrlKa0w9ulbeotcF5qdOPVV/ir9IOcoz++fYt/CopReuIc/t60C8+378Wrs5fw7vc/8PGfd+VHsWicuZ0PtyeefykMwYtdQwyeHDf12HNcuPcP3ryTuTDrLHx4+gxvMnLwcs8h/L1hJ14eOok3eTfx4cXL8oPKRgK49E8Wv8XE9Gei16hAVOArO6B0UUs8WaON7fMDoaYmXmqYIOqDkYkZlqXNx5yjvqKS/hz+6ydgnHvNS5IVHUkInMOTubR0RrBI2hvZBcZMZvLzyTyh63yuM7amRWKihzPaVtk+tHU7FXj4WOFcVmi1KmZ8eJsvIbt531voDMj+rCFcLTbHjXsTmWzl5c3nwPOKJyIqxhGq6upCop3sPfIa8IkLInA2MxxZBSbV5M0j91OZ9ggIMYVyJ5J3Y8MzcYcNGYSirf4oXdgSL5P+hTdLWn0SVF0EzoefY868QMnf74VhceHBot13D/5k4tyBB15TUTLeGcXaligea427JhPx55SZeHn4JN4zyQoRMnu8fQ9hbnrK0dqj4Qrc9z7DrhuvUcokXPH4+PoN3mTm4lHsQtyz9ESxrq1w7RJ9B9x38Mfj+cvxz60CfOQjAvx4Bh/KX55Z+tm17uICV0bpvH/j5fwmrANkg6l+LsK/S7H3miDqiv54Y6TuTGyQwAM2msDIt26bVikikhE4h88V6xmOxLZ0DyY4vmZbdjhcQ4hOcwrtceZKNKZHT4J6d/mlVe1VOiFgii0u5gUIx8rKURhOF9aM1zWBrWb4CEHVYW9+3qvFNoiebYUu3bvKDR/yPXbtnZyweecsZNwMYB0M/SqjDFzemjiZYQP/KQZM3h0pcvkOtGjdHovY5+rVGk28TPy/BgmcD3ufKH6D1zIR8Ls/H+FxQipK9GyR32ds2eYRvAIWh1fB6q+Hu6auQlT+/vHT8lbA41cfsCKrFDa7ao/CeQZ77JnnKHxaGclzeZeevYzf3YJROMSobKOKiusy+LaShcNN8MAvAm+u3vzUeeAdj5uP3sHnQM2dh88KnL13pSkdkbszFr17fX6zIIKoDV3D8UjZPrdBAg/cbArTQMpCbzSatGjDelyjsCWNS9xYiGrlRTcEOUXjcT7HD8vXToG5tYlQ+pS35dLrqKaGqZGOTJSBTOLy5Uw/P1ReX+TPdbXEEjEJFlDvIR95D9YcgTlJYTh+fjpyCpzKE/XkOxE8kj+Z4QC/YEMmbxWS93eAv+dqqqq4tycSLxc0a7DAQ4/8LSSEVQyd82HzZ+u2s8jXpppA5egxGvesPFF67Aw+vnkrtH3HgmI+nM0Ty8SuJQvPIOfD9nwIXHi8/4C3N+7gj8Ao5PdlnQaxa5ZTMFAfD6MS5ToPPFN9wcWXNSa01Sbwl0n/wcvdjtAd3l8h1xgT0kFH3xDJ22Y3SOCTt5rBMkRP9LxSQHIC5/A5bV2DEdi4wxvZQmUz2WprnLJ58YzbNjh02h8LUwNhZWfO5N1NmHPm+2bHzvXGtaKpX2XIXJwygQvD5iXWSFxkh269uwny5jLoqzEQIRFe2LZnCjJv+rFOh5HQ+ZA/B38d2jh5xRW+k8dT5P0d4VM4eloj8CbdvUxADRT4soyX+PtNZdba25v5uG/vX1b9qoo4q5LfTxePYhfg3b3fhbZcxXeevEPcmRe1lm7lkj9d8rYiiMaH5y9YRL+7LPIWuZYcrGNRrGONl0dOlTVmD565frTgdY1r02sVOOP12mHwsNBCM9qAh/gCxo4zwMKt8Q0SePB2c9iGG4ieVwpIUuAcvknI6LGaWLHeDxm3nFmUWn3pF5/bzi7SReZtOxw+44tV60MRMNkbA4cMZwzBynXRKPor/htJnAtcA9fvTcTKDf7oPaA3hgwfBQtrG8yKD8SmXX44l+OG7EKT8uH8qkP3GsgtGo+Tl4LgHWAGpY5M3iLvA9E48PWx/u4OeLVR/4sEvufm68oomD1e7DmMIi1LcXGK8LtzIF5nXi1vDfz18j0WX3kJix3VryVL+PHnuPGwcvj83b0HeDgjSX64/jMUDBgnDPNXPPgIAl+bbl3Ddesi8NKlXRHjMwHtlGgenGg4Y/SYwLc0TOBTdljAYfp40fNKAckKnMN3zxk4dCASFnrhYt4kFsVWLXZSBp9Pzi4ai9xCe5zN8sOGHf6YEeeJ+Ytm4tHTLNx9lIzcYqNq7b6UW7/74enLU4iJj4C5jQ427YjEwVN8OZwbu1djYWi8urj5/Q5h4nfE0bPT4e5thXYd5BPyiMaHL9eLi/BHaar6Fwn8LIuC+VKwisfTJetQOGyCqDTFKDFwELLUKx48mucV0/jabrHrVTDj5AuUPHtf3gp4eysfD7xCRa8hRn7vMfjDP6K8dVn0/7D0PWxrmH+vi8Bfzm+GlMlGUOlQNsVFKB58xPK35q3RSkkZyuqdodpXHT2G9sSA0QMwaKQmmrX+/lX1tPX0sWBzXIMEHrLTEk4zjEXPKwUkLXCOUBGrd28ETLFjcgxBXklFNC6WjMaXjI0Q5Hn+qh1OXPJG8Z/L8fuTtUy2/sLPq7dpGDzp7O6jRfjz2TYW/fsh7agJcgpshI5E9QS3CgYKnRCeyLZhexis7EyE7UvFXjfRuPDlfUnRU1jU2POLBH6q+C3eyAp82QYUatZD4EaOKD15vrw18Ow1E3hW7QLn1d4Kn8oI/HYBHniHiV5DDJ5c90dAZHnrsny2P15++DKBL2iJRcEToKJCn3FF4L9NW6Frz74YazQORrZGsJlkCocIE9iE68MmUg+2M3VgH68D5yR9eCWbIDh1Itwnu4meqzHR1m24wEN3WcIlxlT0vFJA8gKvgEepBsZjMSPeBgdOueBqibnInHIlPCrnSWxcmHzb0bKdyL48A70CPnx/7a4tuw9TYR67bD14TefnGfTsXvJdsX67G9x9TDBw6BA0pblBhaEFizRmhQfi1UaDLxI4r28uN4SefqR+Q+gugXidVTmEzgvBpFx+WWuddL7++9pf/5S3At7df4CH0fNEryEG3w/6ccKS8tZlQ+g8E916p/j16jyE7ktD6N8Tvhqms3pPuHh4YEZiJKYvnozpa30xdb0zpu9yEaqbhafbIDTNQm7bzim7zTBjnwvmrJwpet7GRFt3HBN4bIMEPnW3FdzizETPKwV+GIFz/sM+jB1UVWHjaIANO4KQcctPGBrnQ9Li4pSlrBCL+M8aQt3OlVkwShg1SD/ijeBwCwwdOZiJW7obzP+o8MRJz4kOeLPP+4sEvuSKfBLbP3eKcN9hUp2S2Ar66+LR7EVMvn+UtwZuPX6HWadfCJuSiF2vAr8DfwsZ65+S2F68xHN2n4VDx4teS47yJDbZoXuexHYo/7VQHEbsenUR+Ku1w+BuPpqS2L4TfAqy76BBCIkNwtIDc7DszEzEH/ERhC22PSd/LjzdGvGHvZF8IhwRS30xSl9L9NyNiSDwTQ0UeJoVPGZbiJ5XCvxQAq+A71k7dIQmvAMskLLSEccuuuJqsXV5spr8+upvR80C58PrfIe0vGJPpB32RHi0JcYZjUHr9h0oy1xB4UudRg4fjkcnksqKuDRQ4CFH/xaKuHxaRvbmrZANXqJvj/weWuIC5fQYjfuOk/Dq1AW5ZWTHi97Crw7LyPj6c153vfRt+YX5MrJbBfhraiwK+umKX5PD16EPMhCy398/qVxGxjc74TXZa6rHXqvAk37By3R36AwfIGz6I/aeE98GPlTeq78GHHzsEbrIG3P2BWHGfme5CLuC4N0mmLbXHonHA7HyTDxi1k3BlAQ/mLuaYvBITYVYAqjFBD6/gQIPS7OG51xL0fNKgR9S4BXwqKl3/76wsNVBVJwFdh/yRE6+H/Lu2pQPa/PI/OvNe9cML+wyjEnbCDfve+JcdgDWbeMRtzV0DbXQRklFmMsXew2EYsA7Vm3bd8TimCC8Wq/dYIHb736Kg/lv8Opd5TD6+z8f4enS9cL8Nk8WqyrR/L46uG/nhxe7DwolTysej0o/YFlmKWzqUE6VR8ozT70QSrBWPHghl9eXs4W57cLBhtUz0lmHomiUGR5GJuDt9dtlE9/swafw8/56B4+9NZdTrU3gpalquLxlJnr1pEIujUmr9iowtBiP6SmTMXtPEGYecEXIbrNqYiuLtm2w4HgIlh2ag/CkybD3tMconbHo3kex1u5/kcD3WMMrwUr0vFLghxZ4BVyOvG64roE2gsMcsGSVHw6fDkf+g1jc+t1HmC/PLtIR5q3FBVx/eCIdn1e/fs8B+X+G4/7jJThyKgaxCe5wnGgijBDwOW6KuKUDny/U6N8f1zcG4OXCFg0SOI9Yp50oSyiTLaX6/sFfeLHrAP6cHI27Zm5CGdWScfa4Z+UlFFEpPX6ORcCypVQ/Cuu6gw7/XeddydzSn2H79VdC9Fzx+PjqNd5k5+HJghXCevQSQycUj7ESyrk+8AzFs5WbhWF+vC9LgOMteSnVxVdKPzts/1mBz/8NT3Y4I9DdTkgOFHuvia8L/57p1LU7nCc5InbTFMw54ivMa4tJbQqLxGMOuWP16UTMXDQd5nZW6NFngMIGGV8i8PA9NvBOJIErPPwD/L9mbdBngAZ8Jrkjbd9KPPz7OBPrCuT/EY5rdx2FRDIxGdcfDWHTlJv3fVD81xz89fduvHh9Fes2psDEwhhKHVXlSqkS0uF/zVrB39kcDzbbojSlQ8M2M9nxRMgcf/CiciidP7hMeWEXXm3t7+178TztEEpPX8Q/JfeFim0VD76ZCV+DPfvsi3pvZsKH8Ln4ZUu5cjm/f/gYry5k4sX+Y8Lc+IsDxwWxf3j2vPygMnnzOup8BGHinoZuZtIaj9eNw7Jod2EzExp5+vbw75puffvAe7orZqdN/uy2m3xP7dmH/bDq8HxMCgtA3wFDFD7I0NL5QoEnWYueVwr80ALnHzw+PK05ajgcXY0QPsMUiSlm2JLugPM5PrjzIJhJ1gN5JTbCnLTYzmENhc+35xYbswjcGbd/90fBH2E4cs4d61nkEZNoitDpVrB3McdIbW00b61EkbhE4L+n1m2VEe5jizubfPBu57h6C5zjwgTIS5vef87kWZnTVvb48EEQtrADWUXWWfnjHxZ5X3/4Dgsvlu0JLnbuz2G146mwF/jZu2+FcqhyD/bXj+/eC3Ps/P+yD97RePbmA44UvEHAodqjflGBbxuO0oOTkBo5UaiBTiVUvz08Ua3f0EGYFOeBuHQ/TN1jJSoyDs8sn33YF+uPpmKijztatZPG8r4vEni6DXzm2YieVwr8kALnZS/Ve3QXiqdMjzHH2u32OJXhjGsl9iwyNiiPtMXmvr9tFjrPhs8uHIurJSa4ftcDJy97Y8tuf/gETmAiH4Z2HTpTZC4RmrVqj+jwyfiYldwggXNc058Jc9h8PpnLtIqr5R5coI9LP+A8E++ccy/hwORd16HzqnCJhx17jv133ggdCN4p+NyD73xW+Ow9tl1/JSTM1eW6YgL/eDoAlw9vQv8Bg+hz3gjwzZ+GjB6O0Pm+iN3nI0TXYhLj8GQ1Pmy+8dRi+AcHss/39y/QUldI4D8IQnZlv75wdDNE0mIbHD7rgpxCa2QWjmICresa768h8bqegxduMcDpTBts3GWPWXMdYetogk5d5HcrIxQP/vvRHD4KKNjdYIFzeCGU6FMvsOPGa2Q++EcQKp9j/vvNRwG+4xifL+dbh67NKcWUI3/Xa9i8Jvhwuvf+Z8Ia8qOFb3Dr0Ts8ZB0Efs3n5dfma8xvsOcPsag76cJLOO+p+3XFBI6MWMybMxNtqmz1S3x9/tu0NYZpjRKS1eIP+grRtZjAKpi21w4rTsYhISUB7TuoiZ5TUflSgfvOJ4F/V/g8WteeveDoaozFK12YEN2QW2xaS/GUbwkXeH06AgPBdyG7fs8Fpy4HY/Y8d2jrjhKiPLHXS3x/+FB6l649UXqDC7xSUvUVOIcng/FlXqFHn2PexZdYk/NKGF7n8O1CZ597gUks8uWyr229d33gkbTljifw3PcMM089x5KMUqzPfYVN7Lr8/ylXSjGDPe+e/rTG9d41UV3gvfDm0mxYW5gIuShi7ynxdeDfhxrDhiIqJRQJhwNrlTfPQk88GoS16cswaNhI0XMqMiRwCcMlp62rhcSF3jiTOam8AlvV3cnk4T/PLhwjUHNZ069BmcQzC0eUbapSUPtIAJ87zytxw9Y9PnBymwCljp1pflxBadK8NTYunokPB0yBbX0bLPCq8KpqPMrmQ9217TL2NTFh1+LXLLu2+DF1RV7gvfFxjw72LPJHp070ef7WKHfuAu8IN8w/MrXGTHNZeFLbymMJCJoa8tV+N/9i5+E5DnwO/temrYRpTT5q9S1+9yRwidKijRLMrMdh+94Q5Ba6M/lxQVaXIl8eVpZUZorLNxxYhO6JG8XRuHHP46smrpVRNfLuj6wiHRT8GYmShwnI/yOURdpO5Ulzmuzn4kLnWezHL/K14pbo2rObUGVO7D0gvh880unbty82z3ZG3koTPEu3x9uTkxCbdo4J/JGo2H4WfHbeRsmxaHw45Y0HO2yRlmANzUF92Rc5Ja59S1q1U4GZkxlmbQkU5CQmLVn4krHEI4FYtXMpuvXsJ3rO2vhf87bo2X8ABgwfjOH6I6BtOQqjrYZBy2YYxtgPx1iHERhjN5z9XRNjbUZjjNkYDB0zAgOGDkV7FbUvni4kgUuQlm2VYGWvhz2HfZFbZCEaSXNx5xSNw5WbDth3wg3L17ljZrwnUpbORP699bh214Ed9+0LufCInwv8xetcrNu0APNSvLBqsyP2HLPAldum5ZF59fvILByNC3nOiEtywIDB/YXerNh7QXw/eESh0kkNtuaGmBnijnOHtiDm2O+NGjkrIj57HyJ9XxpWzJuGKX5O6NWrN3VCvzFchDpG+kjYHIlZB91EhVWViHRbpByMxtRp00TPWRO886rWrTeMTE3h6OuI0Hn+CFnigRmbfRB/yA/RB1wQuc8R0/c5fIJXe+OSnbM3CJFr/RC1JBi+07xg5WiHvgOH4LcGTq18cRIbCbxxadlWGdYOY7HnqKtQ3axqFFu2faguLl93xK6DPohN8ICZ1Xio9+iNPgP6I2X5JNy85/1VC7eUUfO8Nx8duPdoMbsPfTRv3R69+vWHqZUOYhJthF3RcgothOIv1V4Lk3/mbUekrHCD5qjBQmap2HtCKAZhkTGYeeIJCXz/3/CPTMJvzanOeWOhotYVk2P9sehkmGgtczFiD3kidWcCBgzSFD2nGL82aYmx+gaISpyOdUdTsObibMQc8vhslntVeOQffWAilp6bgc3nliBxRTxMrCzRun39l659scApC73x4MPm1g66TN6OyC7UrSI8vqvXCGTmWwlbeM6e5wOdcbpo1rIsGUxFTQ0R0U7IuOlTD3nXlozGf17bMZz+rFPBh/sDoGOg/UnEfPjJ09cZm3YG42KeJxM9H1qXvzd+r7mFDlix3hvDRg4R/gHJvieE4hAWOYsEziCBNy7/90sT6EwYh/gtIYjYaycqq6rw5Lb4fZMwg4n43/+tW0Ed/r1lYDoBq/emYv2VJBZZ24ueuz5wiS4/F43VBxfBwcsJSp3U6lXghwQuEfjaRAu7cUg/5i7IUF7eA5nQdXDpmjvWbw9hkjeT20u7dXsVePhZ4Gx2oDAfXjfpilFXYVelrM3VYgvs2heFQcMGf5oP5B/WgUOGIXKmL46cDUVWPp8SkJ8f52vIcwtdsHCpB3r370OJQAoKCbwMEnjj0qKtMpyCbTHn0CRRUYkRlm6N6M1+MLKo237YvzVvA31zQyw7kIiEY5MwJe3z2e31gUfkcYc8sfRwPNwmu6KTevc6z41/ucCpEts3h/f8jM2NkH40CDlFxnJy43/mSWF8k5DEhUEYPExTTnD/Yx88E0t97D8xmR2nX96mvhKuOL6hAq/k5n0vzIhzQ1tl+TrQfO2mvbM19h6Zgex8l/KCM5XthG1Rb7oifIYtOnRWlWtLKAYk8DJI4I0HDwCGj9XCtBW+wnpuMVGJwbPPo1YHokuPPqLnlYV//+qZ6iN538zPlmL9Uvj9p7DvP59wT6h264F/1yES/1KBUynVRmD46FHYkT4dV4vsmchktwQtK4ZyNnMKIqK8oNq1p1w7/uEeMnwY1m0NxrW7duz4CvF/mYQbRtk1+RD5obPuGDd+ZLU5bd7xMLO0wr7Dc5Fb4C5MCcieg8+Tn7zsAUdXQ9o3XAFpiMD58i1+vNn2sgIrVeHLyioQ+3lV6nO87LE1Hc/vrb7rz0ngjUe7DqrwneaJpMNTRLcErYnYg56YtSy81pK2vECWlsFYJKfPRMReW9FzfU14udfUY9HwnuqJDqrqovckyxcJXNjMhAT+TWmr3AnzU0KQectdSOqqFJoGsov0cC6LfXDDXKHcqUu1tsqd1BA5ywPXioOrzHt/P4Fz+BTAjr2hGDBEfD9kC2trHDw+D7mFE5m0+XB65Xn4KML6HROhOXpwveaKiG9PXQXOi6jY73oCr/THCDnyDNNP/I1IRpQMkcefYdqRxwg/9PAT044+Yc/LHyccy5h+7BkiDj+qPP5w+fFVjq04ftqxp3LnjmDHR7LnxI4NO/oMfvsew3n34zp1TkjgjYe27jjErQ0TsrzFJFUTMfu8EDUvXPScFfBpPo3hQ5G8I1bIJBc7z7eAR8bLjsbDwtkSzVp/vqzrlwicthP9xnBB2Tma4eg5PyY9HTmR8bnsi3mTEB7lDhXVrtXa8jmUCebjcOxcaLW23x8N3LjnhhlxHsJWp1XvnUfiji5OOHE+AblFtlUS2wYiO98O02MsWQelelvi+1EXgfOo1iv9Eead+hO7sh4g+/5L3Hr4BneqcO33Fzh74wGO5RTjaDkX7/yFG3+UVjv2NiO75BlOXbv/6dgTV+/iSsEj3PrzdbXjb/31GpnFTz4dyzmZdw85JU+rHcvPnffHKxy69heWnXuAoAMPay30QgJvPKwn2iIpPbzWimuy8Cz1qB3u8J/qL3rOCtqqdMKs1GmYfaT+cvxSZh50xZwN0zFUa+RnRwm+SOBp1vCYYyF6Ximg8AJX6dwFKzcEIrvAQpBehcQyCoYg67YrEhf6oXtv8QIEKqpdMGuuE67fdf3UrozvEX1XIHvtgbhyLRq6BqNE13jz6kWBwYG4kB3LJD6h7Pjytnw04fA5Z1jZj6OsdAWiNoHzoehJ+x9h8+X7OJdXiJw7JXjyvBSv3vxTjcd/v8T1gnvsM5KPy+Xk3/0Dz168qnZs6eu3ePDoGXLZ+SqOzbxZhKLfH+LFqzfVjufP3fvzyadjOdm3ivHg4dNqx3Kel77BzeIHuMSO2599F9OPPBQ6ImKvkUMCbxz494ZnmCsWnQqv89IxTshuc8zY5g1XX3fR83J49D1YSxPrLiYIm52Inedbk3IqAkEz/dFZvYfoPXK+ROBTd1vBPd5c9LxSQKEFzqNQV08rHLtQNaFLAzmFptiSFoyR2uK1e39r2ho2juNx/OIkZAmFUiraKhZ5JZZIXRkI1W7dRF8H3/ghcUEksm6FlmfPV7bl25UmL7NHjz69RNsSjU9tAnfa/RgbLt7D+bwCQZpSEzg/TpB4VjF89tZcbY4E3jh0VOsG35iJwnpuMUHVBJ9njtkRCAc3Z9Hz8u9elS7qmJ4cgqh93y5prTZ4oZlNZ1NhamspBDRi96ql+2UCd40zEz2vFFBogbdXUcWqjV7ILjRhwqqMvrnIzmWFwt7ZpMZfav9BA7FivR/y7lrLteWRe1nBlEoRNh6DyuezZe6HPXe1YBommI+pltBWQd8Bg7FuSyRyCpzk5vH5n89mu8LNx6TGtkTjUpvAZxz9EydyCz9J82sK/PdGEjiHd0BSzvxR4+skgTcOg0eOQMhiD0F0YoKqCZ6MNmdXKGxdHEXPy1fuGFlOwIbLSd8t+ubwUYXUM9PZZ8kHHUSmSTlfIvDQXZZwianbMjpFRKEFbu9sgYNnLOUS17jwcgtdEZfgCVV18cizSYu28AuyZ1FrEGsjO+zMZFlihhv3PdnfKyXaWGQVjhHqr1fNLOfV5FZvDEa3XvIZ9LLYOtrg6LkQmWVwZeQWm2DlBk8MGDxItB3RuNQm8I0s+r5QHn1zpBiBc3gUfuzqXVjveCz6OkngjcNwXS0EL3Wp1/w3hxdgSdodARsnB9Hz8uzvucvjEPkNl4zVFd7ZiFkVhkHDh4ve65cIPGSnJZyijUXPKwUUVuDNWrbD4pWeyLjN534rZcurrx09GwaDCbqi7TiDNYdg7VYfXGVyk5UdT2QrfpiA35+sYp2Cr72JSe3kldih4N525BZZC52Jiud5JJ1XFAJji8oKbVXhu64lLgxGdj57TwqGVLZlr+NCrh88fGseYiIaj9oEvvliCRN4pTS/bgT+tNEEzuFz+DYk8O/KKEMm8BWOonL6HHwt96L0WSwwcBI9b9c+fbDlzDJ27PeLvmWZnz4dWoZjRe+VZ+EvaKDAp+ywgP10I9HzSgGFFbiWziikHbFhUavs/LUGrpV4ITreFSo1rA/kWetO7hNwPtdLEGNlWxZ9F7mg8N4BJtGdLHIdL/OzxuHmvSlIXZ6IU1dCceXOaLmf8a1Nl6/1Q9eeNSdrjDMyQvoRXsjGQK5t3l0bLFruiW49+4q2IxqP2gS+6eLdbxaBN+YQOud0biGLwMXnwUngjYOWiRamrKn/8q6o/c5YtDcGNo7Vh9D5staBI4diY8Z80bZ1ZeoeS6Ewy7S99sJyrS8ZiufD6Eb2BqLV2bR19bFgc1yDBB68zRw24QbVzikVFFbgweG2OJlpyARVOQTO567PZ0XBxKLmHlO7Dp0wY7apsC+4rOR4mdUTl4IRP3cWUldMw60H/uz5xhxGH4gL2XHo3FUNwWFOOJtrwqJn2Q6GBrLvhGLc+OFC9qfYa+NTA0nJk5FbyKJw2blwFoUfPuMLCxsT0XZE41GbwJee+wNnr36bOfDGHkJPz7oPy+0UgX9P+NadUzbUvx75J4E7VBd405btYOJggoWnQkXb1gYXNV+TnrQ/BMuPzcaK43Ox4GAEZh1wr9eGJ7LMOeoHS29jtGijXO1+x+jpY+GWhgl88lYzWIboVTunVFBIgfNlUas2OzPpys73suj7rgMWLvFF997ikSZfKzjebAyL3B3lEtW47HIKXLAgNUioWmTnbIybd2PkhqK/NTzxLnauE1q1a48hmiNw8mIIsgrks8qvFpti9jwXdOpSc/UhMysT7D/hy96bsTJtNXD9rjfCouxpGP07U5vAgw8+wqGsYkGAXIRSHULn0fesY38JBWnEXicJvHHQsx+D8K31n6eujMCrD6G3Ue4E3wgvzGng2u+ofY7YcHwxQiOnwsvPD56+vggKnYJ1+1MRd8Cr3vP1HL4m3GuGMzp3qz5COXacIZK3zm6QwAM3m8I0UHxoXgoopMDVuvbARvbmyg6fc9nm3AmHndP4Govcq3XrySTtjRv3nAWpVbTlyWPpRz0xwbQsWWHg0IHYvDtQmE+vOOZbc7XISYiueeeEL9FYt3k2rtziNd1lkuxYRH7sfDCGjRooHFP19XE6dO6KJav9kVdi+6kdJ6/EAnFJVmirTIVdvie1CZwnfSWf/h0ncgoFiUsxAj97tQAbL9yFw27x6JtDAm8cDJx1MG1n/SqwcYQ5cCZwW6fqAm/fURUhcYGIOegu2rY21lyajXETjKqNJA4dORqLDjSsHCu/35AFPuilMUDunBw9w/FI2T63QQIP2GSC8b5a1c4pFRRS4EM0h2PHAXuZCFWD/VkPS9a4o6+GhmgbjrH5BBw44Vcly5uvGbdHUoq3MDTEj2vZpgM8/IyRW+gu/Lzy2G8DT1g7eTECyp1VPt2rmZUpTmV4IbNQfsOS6/fc4eKpLyStVRxblYgo9hpvTWLCr8jO10BukRWi4izQsq38BilE41KbwDnWO54wiT/A4exiXL51F38+K8Wz0n+q8ceTl0zw94UlW+eYNDk3iv/EX89eVTv26cu3KP7zGTJulXw69tL1Ity+9xCPX7ypdjx/ruDBk0/Hci7fKGbneFrtWM6j569xtfABTrLIe92Fe3DZXfMacA4JvHHQttPElC3WonL6HLws6sL0GXByc612zvYdOyN4th87pv7JcZzDN7eiedvq5U95ftLGo0vrXfKVE55uiykLPdF7UHWBG5maY1na/AYJ3H/9BOi5i2e3SwGFFHiTFu2QmOyJszlWuHRrFC7e1MLJy76YYD66xuib9/ZCptkjr9hbTog8ij9wygWWdhPkjtcY2h/b9vgKQ9uyx399NJBdYIxJU+zlNh/hGwTs2h/DOibyFdayCsdi864A9BvUv8YovFe//khe7ooL1yzY+zOSoYN9xz1hZj1O9Hii8aiLwDl845DQQ4+w7PyfSL/xAgfvvKpG+vXn2HD5D6w8dw8rz5axJfMh9t0UO74Uu64+xdqLDz4du/r8fWzLfoQDt0qrHX/gdil25Dz5dCxnzYXfsZOdo+qxnP3sHOuuPMSsY49gs7PmyLsCEnjjoG3LBL7ZSlROnyNsjxWS9oYicGpQtXN2VO+K+JVRdd5XvConbu1C01biv/fNR1cygbuItvscPAluxuogDB5VXba2js7YeGwZZh/xEW37OXzXjscYp6HVzikVFDaJTamjKrz8LbB+22QsWR0AI5OxaN665qi0S7cemJdqjdxiLsRKgeYWmbLI3a1aKT6eEOYwUY9F4T7suEqBfm14hH3iQiQ6dO5UTcjefp44neUgJKFVthmIOw+i4eAyQSimIHu8LB3V1OAdYIate8KwbM1kjNEbgV9q2VWI+PbUVeA/OiTwxmGU5VAEbbAUldPn4IlmiUcDsXBtIn5rVvk9w/OIhmmxoCdnc4PmqjkHLm+vcafE1buXIWpv/SNwvl/42rOJsHWzE4KfivP9i32nTg4Nxb6sjcI8uVjbz+Gz2gijbYfI3aOUUFiB1xc9w1HYccCmigw1cOm6K6ZOE6/327NPHyxbOwnZhXxJ2dcfShcKxxQGwNrOWO5DV0GnLj1w5HSUsDOZbLurJZZMylPRo0//am0IxYYEXgYJvHEYaTocQWttROVUG5H7HJGwIxwTLM3QrHU7Qbo9+w1A0rIELD83U7RNXVi6PRn/ayEefMQsnInwXfXPmufMPxGMlC2JGKtvIET4/BodVLsgel4UNlxJalCHw2f1BIy2GiZ6r1LghxA4j2y9JhnhYh7f77tShDxTO+2wJ/THi6/z43My2nojcSEnVhi6/roSH4jsAnMkp4aieQ3DSZxV62KRcZt3PGSXhQ3B0bNRGD5aU7QNoXjwqR0eyUyfGU8CZ3CBB81KRuv2nYWVETVNBxFfhqaBJgKW138OnMOj8JkH3bDyRAJmLY5E2JwpWLwjASsvxCE0zUK0TW3wZWIx82fWWJAqKDwYYdsd6rXxSgX83ItOhWHlwfmYsSCCdRB9EL0kDPP2TxXWmou1qQ3flcbQMh8heq9S4IcQeBuljpiVYIicIr5uvEKgGsgrccCiZd7C0jGxdhy+rtDd2wbXi+KQWagt0/5LGIisgvHYfSAOrdpVX7coi7uXG85m8bl4+c1a8v+YBhMrrRrn/InvD5cSl3aLdp2gMUwbPoFhrMN4GlHHn8J4yyOM3/zwqzOBnVdMmA1hwpbHotf4GnimP8G6fecRPmM29I2t0VG9N4vwlOjz/JUZOlYTk1IbFoFXwCPXyH0OiD4wUSi+InZMXYk77IWQqBDREUeOq7cH4tImNbiDwOFt+TK4mQdcEb6nYZ2XCvxWmmKMmbbovUqBH0LgugajsW2fHWR3LOMZ2pev+2NKmKdoG1l45rarly2ybsYgI5+fo+Fz4nzYPLvQHAePLwbf57u2yKNrj344dja2WnW1a3dtERhqgrascyLWjvi+8NEbpU5dERG/CKtO5iNu3x1M330TEbtuwnzFNYxamIORC74+2qk3YbD+gaiQ64PRxr8wdlm+6DW+BuNSryJ42w1MZ+/HzD23sPxUEZI37seQkTqiW+cSDWOo9ggELXZqcIGUr83qi/Gsw2Zc4/7dmqO1sXh/jFChTax9YyIMua+yw9gJVMjlu8F7euFRLsjJ92Lik83m1sa2ve4Yq6cv2q4q/Dxj9LRw8MQs5BTaMRHzJVr1GVLXQCaT/827U7F15wLWKfh85F0BF3za/qXsmpbCOSrOx7Pjl651Qa9+tFWoosF/Z8qqPbB6/yVYL8nAsLjTGBRzqlEYHHtG6BwYrL0vRNBicq4No41/YkzqDQyJPyt6jW/B0NjT0Es6j+T0LPTor0mR+FeiW59+CJjryqLn+md2f224EI/c2I62Haon7Fbwv+ZtsfHICsQccm/QMPrXhA+7R6z0RncJ5xpJXuDDRo7G5l3hQj1wWaHyQidxSXZyGZZ1gWe/R8X4CkPqWYUG5UlxNYmcPz+QRf6jkFtkjzslm+Dm6cq+nJqJnrsmQsICcC6H73nOtxqtPPf2/S4YpNlPtA3x/WjSsj2ik5bBZskVUVl9az5JfF39Jc7lrd3I8pZFd94FuE9bgNbKaqLvLVE//tusNbzCXYW54e+57SeHD8Fv3bOZBUOf39o4MSURcw8EfvdRA77sLGEdn6+vnyMUCckLfLyJCdKP+AsRd6X8BuJ0pj28/M1F29QGL+bfZ8BArFo/F3f/WoOb93jpUiMWlfM144OE4fmsQl3kFlsg//dIXM5ZgciZYWjRpmFFVMwtrXD6ylRkF8mWRx2Aq4X+MDCR7hKHHxEeWbTpoI6lJ4owhEWVYpJqDASJL+AS/11U1GJUyHvwd5J3BSFrz0FJnTqmXwsLBxsk7o747kLckpmCbr371TptqNK5GxalxQlZ8GLnaQz4aMHsvYGYFhspeo9SQfICd3azw7GLvKJa5fA5nwvfddgehiZjRNvUFT7M1065EwyNjeAX6Am/AHc4TrSGkYk+ho7QhFq37sJ6cj4fWtuH9nO0UeqEg8fjcbXElN1/ZbR/tcQKFvaDqb65AsHn9oaOHofQbddE5dSYfJL42vuiwpblewyb14T98gyo9R9Fw+hfiU5dumPKbH/MOzH5u0XhPPqOTIyoce67Kl7BXpi52+u7dDr40H38YW8kb4tHPw3pFnHhSF7g4ZEeLFL1+yQ9Tk6RLjbtcsMIrdGibeoLFzQfFufwP//r16aCsL9E2lXZnrYYuYWOQhJc5evQR0CoHiWyKRB8uM3ezQ+BW/JE5dTY1EXiRhv/KB82Pyd6jsbGcvFlDBprWutQK1E3+PeQibUFktNmfZeolhdZ2Ze3Dl179a3zd6KKalcs2zuvQcVXvpSIdBvEbAmEqY3lV/0O/x5IWuD8zY+Od8aN+zwCrxT41RIzzEt1gHKnmnf1UjSmRkzF6SxbyO6QxmvBJ6SYQb1nV9E2ROPTtGV7hEbFK4zAOZXD6dUlziNvrdTrChF5V2DBBK5t4iSUTBZ7j4n6w1fSTJruj+VnY1hU27AKag2BR/wLT05F+MyIeo2o8O/uid4eWLB/WoM2N2ko/L1ZeGIq5i6P+yFGNiUtcL4cJXqOGfLu8gzuSoHfuO+G2ATXGtciKiIOzhNx/JL85iYZBZpYtNIIPfp2EW1DND7NWikhKn6+QgmcMzhOJhIvT2wT5rwXK07kXQEXuK6lq9AZEnuPifrDhdhv4GDELYtCypkIJlZTUYF9Tbi8E44GYN2ulQ0aTeE7M8bOn4XkI9OEWudi1/ia8KHzhGMBWLFnIUbrSHfpmCySFjgvwhI3zwRXq9Q/v3U/ADNn+0lqeKR7r/5IPzIJ2UWyW5wOxJ6jjhiuRSVVFQX+mVu4fK3CCZzDJT486QrGLs+H3qoiQeiKJm8OF/gYU4rAvzY8AtYxMMTyXclYfHbaN43EeQch8VgQ1u1ZgdZfMMXH/z3FL4rBoqPTEZb+7STOk9YSjk1Cyq450DUyrPNcvaIjaYErd1RFQsoE5FSpJX4h1xO+Ac6ibRQVPpqwc38IcouN5F7L7fvhCAxxQqt2lVuREt+P5q2VMXfhUgRvVTyBC8SeFkQu8B2z5D+HVeplDNU1l/TyHUWFDwtr641D6tb5WHpuxjeROJfhvGNTsGjtPKEK5pcGSi3aKiM8LgwLD0UgPP3LqsqJwRPl5h8PwYJNszFs1OgfKilY0gJX7doNC5aZsKhVT0566cetYWZtJNpGkVm41AsXb8h3Ru48mIwlK6PQo3f1fXCJxod3tAxMrDFn/20MFpETUTtea7PRe6gO7Z73jeCC6j1gICJmT8Wa00lCkZevkZ3Oz8HPteHCQviE+KJlu4YtmxWjWav2sJ5oh+UHEzHnqN9X6XjwIXNecnXJsVmYlhAG9V69f5jIuwJJC1ytWw8sXG7KInBZgWtgS7oxdPS1RNsoMt4BBjhyabTMaxmAW7/7InVFBBM4DaMrAjzaaNG2IybHLILXumyMT74IwwUXiDpgtPAiJq7OwYHcP9FzgKakprikBh9O54IdY6SHhLUzsfJsLJOZk5AxLia7z8GHy2dwEZ6egdRt8zF8jBaatvz60x98++QBw4YiJiUKy0/GIfawZ4NqpvPXGLnfUdhRbcXeBTCztxCi/H//Wr8CW1JA0gJv16Ez5iabIbeYbwdaJrzMwlGYt3Qc1HvI7/8tBawcxuLA2XHIyK/cmSz/j6mYFGwnzBWJtSEaHy6eVu07Y4SeKQJnzIM/I3DWQkyJS8HUOUswLXEFIuevRnTyOsSkbsTsZVswd8V2JK3aiQXr0rBow14s3rwfS7cexPLtR7Bq5zGs3n0ca/ecwrq9p7Fx/1lsOnAOWw5dwNbDF7HtyCXsOHoZO45lYOeJTOxi7D6ZibSTWUg7lV0ru9lx/HjebufxDHaeK9jOzsfPy8/Pr8Ovt4Fddz27/rr0U1iddgKrdh3Dih1HsGzbIaRuOYjFm/YheX06FqxNQ9LqnUhYuR1zlm1F3JLN7Et3A3u9a4XXPS1xJcLmLkPI7FQEx6YgaGYyJs2Yj4Do+YicnQzfoKlo3b6T6HtLfF1+bdoKSp1UoWdqgHlr47D5UgoSjwXUKcLlQ89zj/pjR9ZS7Di+Hg7uzminUra7nNi1vgY8Qm6tpCJscbpq5xLszlyF5FNT6zS0Hsrv94gfdmSzdmc2YlJYALr27iN0DMSu9SMgaYHzXmbAFEdcuR4sbB2aWTgaecWTEBHtIGQ4irVRZLr26on0I8G4WmKBjILhQjnYXfunQ3OUprD+XKwN8f3gmbet2nUqgwmJb53ZWqkz2iirCrTtoMbowr70OOpo31EdSh27CpugcJQ7dYNy527o0Lk7OqhW0AMqHLUyOqr1LKOLPJ0EetWD6ueoOHfFtYTrMj7dC7svfn8C7F6F+2b3z1+HAHtNwmtjr7Hstaqx181RZe8Dh70f7D3h703Fe9SG0byVEn2eGxHe4eQlV9t3VIXG8KFw8XNB6Owg+MW6wm2WFeyjDGE1bayAXZQ+PGJtEDjHE9OSQjE1JhRG5sboqN6tUVcNcOkqd+4CbX09BEQEsHuZiuC5vvCOc4DjDCNYTdcpv18DuMdYIWCOO8ISJyMiPgzWznZCjXge9PzonzNJC5zTun0HDBnRFxZ2w+DoNgp644exL57OoscqOrz32VejNyxsR8DZaxQMTAaja8+ukloORxCE4sK/Y5q3VmKdrI5opdQBLZXao3n7tmjWvo0A/3NLJSW0Vu4gbErCM8y/Z7Ihzzlp2U6l7F6UVdBKWZndY7sq99teuN82HToKVS356oafpYMoeYFzeO3y/zVvzXqIbZjsWkp6bo2PKvDX0qxV2WvhVd/EjiMIgiB+bn4IgRMEQRDEzwYJnCAIgiAkCAmcIAiCICQICZwgCIIgJAgJnCAIgiAkCAmcIAiCICQICZwgCIIgJAgJnCAIgiAkCAmcIAiCICQICZwgCIIgJAgJnCAIgiAkCAmcIAiCICQICZwgCIIgJAgJnCAIgiAkCAmcIAiCICQICZwgCIIgJAgJnCAIgiAkCAmcIAiCICQICZwgCIIgJAgJnCAIgiAkCAmcIAiCICQICZwgCIIgJAgJnCAIgiAkCAmcIAiCICQICZwgCIIgJAgJnCAIgiAkCAmcIAiCICQICZwgCIIgJAgJnCAIgiAkCAmcIAiCICQICZwgCIIgJAgJnCAIgiAkCAmcIAiCICQICZwgCIIgJAgJnCAIgiAkCAmcIAiCICQICZwgCIIgJAgJnCAIgiAkCAmcIAiCICQICZwgCIIgJAgJnCAIgiAkCAmcIAiCICQICZwgCIIgJAgJnCAIgiAkCAmcIAiCICRHE/z/pct3ui3R6n4AAAAASUVORK5CYII=)"
      ]
    },
    {
      "cell_type": "code",
      "metadata": {
        "id": "I6AoOq3yEEVl"
      },
      "source": [
        "# installacion de la libreria AutoScraper\n",
        "# pip install git+https://github.com/alirezamika/autoscraper.git\n",
        "# pip install autoscraper\n",
        "# python setup.py install\n",
        "\n",
        "\n",
        "# ! for using console comands i Jupyter"
      ],
      "execution_count": null,
      "outputs": []
    },
    {
      "cell_type": "code",
      "metadata": {
        "id": "VxXZnM85Bf1f",
        "outputId": "d8bef3d5-d23d-4c23-cef9-a124df2338b3"
      },
      "source": [
        "# !pip install autoscraper"
      ],
      "execution_count": null,
      "outputs": [
        {
          "name": "stdout",
          "output_type": "stream",
          "text": [
            "Collecting autoscraper\n",
            "  Downloading autoscraper-1.1.12-py3-none-any.whl (10 kB)\n",
            "Collecting bs4\n",
            "  Downloading bs4-0.0.1.tar.gz (1.1 kB)\n",
            "Requirement already satisfied: requests in c:\\users\\andre\\anaconda3\\lib\\site-packages (from autoscraper) (2.24.0)\n",
            "Requirement already satisfied: lxml in c:\\users\\andre\\anaconda3\\lib\\site-packages (from autoscraper) (4.6.1)\n",
            "Requirement already satisfied: beautifulsoup4 in c:\\users\\andre\\anaconda3\\lib\\site-packages (from bs4->autoscraper) (4.9.3)\n",
            "Requirement already satisfied: urllib3!=1.25.0,!=1.25.1,<1.26,>=1.21.1 in c:\\users\\andre\\anaconda3\\lib\\site-packages (from requests->autoscraper) (1.25.11)\n",
            "Requirement already satisfied: chardet<4,>=3.0.2 in c:\\users\\andre\\anaconda3\\lib\\site-packages (from requests->autoscraper) (3.0.4)\n",
            "Requirement already satisfied: idna<3,>=2.5 in c:\\users\\andre\\anaconda3\\lib\\site-packages (from requests->autoscraper) (2.10)\n",
            "Requirement already satisfied: certifi>=2017.4.17 in c:\\users\\andre\\anaconda3\\lib\\site-packages (from requests->autoscraper) (2020.6.20)\n",
            "Requirement already satisfied: soupsieve>1.2; python_version >= \"3.0\" in c:\\users\\andre\\anaconda3\\lib\\site-packages (from beautifulsoup4->bs4->autoscraper) (2.0.1)\n",
            "Building wheels for collected packages: bs4\n",
            "  Building wheel for bs4 (setup.py): started\n",
            "  Building wheel for bs4 (setup.py): finished with status 'done'\n",
            "  Created wheel for bs4: filename=bs4-0.0.1-py3-none-any.whl size=1277 sha256=348f31ca48105bfba19bb7bbc60f2dc2a99d428520668bfa9804a95140536578\n",
            "  Stored in directory: c:\\users\\andre\\appdata\\local\\pip\\cache\\wheels\\75\\78\\21\\68b124549c9bdc94f822c02fb9aa3578a669843f9767776bca\n",
            "Successfully built bs4\n",
            "Installing collected packages: bs4, autoscraper\n",
            "Successfully installed autoscraper-1.1.12 bs4-0.0.1\n"
          ]
        }
      ]
    },
    {
      "cell_type": "code",
      "metadata": {
        "id": "xZ-TyMnbBf1i"
      },
      "source": [
        "# librerias para web scraping, procesamiento y visualizacion de datos\n",
        "\n",
        "import numpy as np\n",
        "import matplotlib.pyplot as plt\n",
        "import autoscraper\n",
        "from autoscraper import AutoScraper"
      ],
      "execution_count": null,
      "outputs": []
    },
    {
      "cell_type": "markdown",
      "metadata": {
        "id": "-OWkpqIoBf1j"
      },
      "source": [
        "\n",
        "El constructor `AutoScraper()` permite crear un Web Scraper, inteligente, rapido y ligero, para Python.AutoScraper automaticamente aprede un conjunto de reglas requeridad para extraer el contemido requerido de la pagina web, así el usuario no tiene que configurarlas explicitamente para cada tipo de bisqueda."
      ]
    },
    {
      "cell_type": "code",
      "metadata": {
        "id": "5dwA808BBf1k",
        "outputId": "26f40a65-2087-44bf-d3f7-5477f8218155"
      },
      "source": [
        "# set parametros basicos para configurar la busqueda por el scraper\n",
        "url = 'https://store.hp.com/co-es/default/portatiles.html'\n",
        "wanted_list = ['Gaming']\n",
        "\n",
        "# contruccion de la instancia Auto Scraper\n",
        "scraper = AutoScraper()\n",
        "result = scraper.build(url, wanted_list)\n",
        "\n",
        "# mostrar resultados\n",
        "print(result)"
      ],
      "execution_count": null,
      "outputs": [
        {
          "name": "stdout",
          "output_type": "stream",
          "text": [
            "['Casa', 'Empresarial', 'Standard laptop', 'Convertible', 'Detachable Workstation', '13.3\"', '13.3\" (33.78 cm)', '13.3-inch (33.78 cm)', '14\"', '14\" (35.56 cm)', '14-inch (35.56 cm)', '15.6-inch (39.62 cm)', '16.1\" (40.89 cm)', '16.1-inch (40.89 cm)', '500 GB to 1 TB', 'Less than 500 GB', 'More than 1 TB', '8 GB', '4 GB', '16 GB', '12 GB', 'Windows 10 Home 64', 'Windows 10 Pro 64', 'Windows 10 S', 'Intel® UHD', 'AMD RadeonTM', 'NVIDIA® GeForce®', 'Intel Iris', 'Intel® HD', 'NVIDIA® Quadro®', 'Menos de 2 Kg', '2kg -2.5kg', 'Más de 2.5 Kg', 'Everyday computing', 'Gaming', 'Premium computing', 'Performance computing', 'Plateado natural', 'Gris pizarra', 'Cubierta y base de plata natural', 'Negro', 'Logotipo cromado verde y negro sombra', 'Aluminio plateado de color verdoso', 'Cubierta y base en plateado natural, estructura de teclado en plateado ceniza', 'Negro noche', 'Cubierta y base en azul lumière, marco de teclado en plata ceniza', 'Cubierta y base en gris humo, estructura de teclado en plateado ceniza', 'Equipos portátiles HP Elite Dragonfly', 'Estación de trabajo móvil de HP', 'HP EliteBook Notebook PCs', 'HP Home Notebook PCs', 'HP ProBook Notebook PCs', 'Laptop OMEN by HP', 'Notebbok HP ENVY x360 Home', 'Notebook HP Stream Home', 'Notebook doméstica HP Pavilion Gaming', 'Notebooks HP para uso empresarial', 'ENVY', 'Elite', 'EliteBook', 'Essential', 'OMEN by HP', 'Pavilion', 'ProBook', 'Spectre', 'Stream', 'ZBook', '1 headphone/microphone combo', 'Optical drive not included', 'MU-MIMO supported', '1 AC smart pin', 'Miracast compatible', '802.11a/b/g/n/ac', '1 RJ-45', 'Integrated 10/100/1000 GbE LAN', '2 SuperSpeed USB Type-A 5Gbps signaling rate', '1 HDMI 1.4b', '1 SuperSpeed USB Type-C® 5Gbps signaling rate', 'Fingerprint reader not available', 'numeric keypad', 'Bluetooth', '1 HDMI 1.4', 'Kensington Mini Security slotTM', 'Fingerprint reader', '802.11b/g/n', 'Wi-Fi 6', '1 HDMI', '2 USB 3.1 Gen 1 Type-A (Data Transfer Only)', 'HP BIOSphere Gen5', 'HP DriveLock and Automatic DriveLock', 'HP Secure Erase', 'HP Sure Click', 'HP Sure Sense', 'HP Sure Start Gen5', 'Lector de Huella', 'TPM 2.0 embedded security chip shipped with Windows 10 (Common Criteria EAL4+ Certified)', 'touch screen', 'Absolute persistence module', 'Kensington Mini Security lock slot', 'Not included', '1 AC power', 'Preboot authentication', 'Windows Defender', '1 HDMI 2.0', '1 USB 2.0 (power port)', '2 USB 3.1 Gen 1', 'HP Client Security Gen5', 'acid green backlit', '1 USB 3.1 Gen 1 Type-CTM (Data Transfer Only, 5 Gb/s signaling rate)', '1 USB 3.1 Type-CTM Gen 1 (Power delivery, DisplayPortTM)', '1 USB 2.0 Type-A (Data Transfer Only)', '1 SuperSpeed USB Type-C® 10Gbps signaling rate (USB Power Delivery, DisplayPortTM 1.4, HP Sleep and Charge)', 'backlit', '1 SuperSpeed USB Type-A 5Gbps signaling rate', '1 SuperSpeed USB Type-A 5Gbps signaling rate (HP Sleep and Charge)', '1 USB 3.1 Gen 1 Type-A (HP Sleep and Charge)', '1 USB 2.0 Type-A (HP Sleep and Charge)', 'Bang & Olufsen', 'Disco Estado Sólido (SSD)', 'Power-on authentication', 'Secured-core PC capable', '1 USB 3.1 Gen 2 Type-CTM (10 Gb/s signaling rate, Power Delivery 3.0, DisplayPortTM 1.4, HP Sleep and Charge)', 'HP Rechargeable MPP2.0 Tilt Pen', 'IR', 'Kensington Nano Security lock slot', 'Wi-Fi CERTIFIED 6TM', '1 HDMI 2.0a', '1 Mini DisplayPortTM', '1 USB 2.0', '1 USB 2.0 Type-A', '2 SuperSpeed USB Type-A 5Gbps signaling rate (1 charging)', '2 USB 3.1 Gen 1 (1 HP Sleep and Charge)', '2 USB 3.1 Gen 1 (1 charging)', '32GB eMMC Onboard Sure Recover module (optional)', 'BIOS Update via Network', 'Camera Shutter', 'HP Client Security Manager Gen6', 'HP Sure Recover Gen2', 'HP Sure Recover Gen3', 'HP Sure Run Gen2', 'HP Sure Run Gen3', 'HP Sure Start Gen6', 'RGB backlit', 'Support for chassis padlocks and cable lock devices', 'Tablero Retroiluminado', 'Touchscreen', 'Webcam kill switch', '1 SuperSpeed USB Type-C® 5Gbps signaling rate (DisplayPortTM 1.4, HP Sleep and Charge)', '1 USB Type-CTM 3.1 Gen 1 (Data transfer only, up to 5Gb/s)', '2 ThunderboltTM 4 with USB4 Type-C® 40Gbps signaling rate (USB Power Delivery, DisplayPortTM 1.4)', 'mps', 'castordata', 'Ver todo', 'Empresas\\nEliteBook\\nZ Book\\nProBook\\nDragonfly', 'Ver todas las portatiles', 'Empresas\\nZ Workstations', 'Ver todos los Desktops', 'Empresas\\nNeverstop\\nOfficeJet\\n \\nLaserJet Pro\\n\\nDesignJet\\n\\nLáser', 'Ver todas las impresoras', 'Tóner\\nPaquetes duales de tóner\\nPaquetes estándar de tóner\\nCartucho de alto rendimiento de tóner', 'Ver todos los Cartuchos de Tinta y Tóner', 'Empresas\\nZ', 'Ver todos los monitores', 'Ver todos los accesorios', 'AMD', 'Cabezales de impresión', 'Bocinas & Audio']\n"
          ]
        }
      ]
    },
    {
      "cell_type": "code",
      "metadata": {
        "id": "YU1nuT_xBf1m"
      },
      "source": [
        "# metodo para configurar escrper\n",
        "# urilizado para inicializar el AutoScraper de manera iterativa\n",
        "def customScraper(url, wantedList):\n",
        "  url = url\n",
        "  wanted_list = wantedList\n",
        "\n",
        "  # contruccion de la instancia Auto Scraper\n",
        "  scraper = AutoScraper()\n",
        "  result = scraper.build(url, wanted_list)\n",
        "  return result"
      ],
      "execution_count": 1,
      "outputs": []
    },
    {
      "cell_type": "code",
      "metadata": {
        "id": "0OzQnhDyC8aq"
      },
      "source": [
        ""
      ],
      "execution_count": null,
      "outputs": []
    }
  ]
}